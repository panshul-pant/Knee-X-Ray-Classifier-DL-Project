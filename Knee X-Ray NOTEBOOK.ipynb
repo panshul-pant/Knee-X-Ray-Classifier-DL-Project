{
 "cells": [
  {
   "cell_type": "markdown",
   "source": [
    "#### Dataset for this problem can be downloaded from https://drive.google.com/file/d/1NdDqPK4NLn2aV8ZdF5ilux1sfG6IyebC/view?usp=sharing\n",
    "\n",
    "Acknowledgement\n",
    "\n",
    "Chen, Pingjun (2018), “Knee Osteoarthritis Severity Grading Dataset”, Mendeley Data, V1, doi: 10.17632/56rmx5bjcr.1"
   ],
   "metadata": {
    "_cell_guid": "b1076dfc-b9ad-4769-8c92-a6c4dae69d19",
    "_uuid": "8f2839f25d086af736a60e9eeb907d3b93b6e0e5",
    "execution": {
     "iopub.execute_input": "2021-09-07T15:26:44.899509Z",
     "iopub.status.busy": "2021-09-07T15:26:44.898959Z",
     "iopub.status.idle": "2021-09-07T15:26:57.201174Z",
     "shell.execute_reply": "2021-09-07T15:26:57.200557Z",
     "shell.execute_reply.started": "2021-09-07T15:25:23.838103Z"
    },
    "papermill": {
     "duration": 12.339931,
     "end_time": "2021-09-07T15:26:57.201334",
     "exception": false,
     "start_time": "2021-09-07T15:26:44.861403",
     "status": "completed"
    },
    "tags": []
   }
  },
  {
   "cell_type": "code",
   "execution_count": null,
   "source": [
    "# This Python 3 environment comes with many helpful analytics libraries installed\r\n",
    "# It is defined by the kaggle/python Docker image: https://github.com/kaggle/docker-python\r\n",
    "# For example, here's several helpful packages to load\r\n",
    "\r\n",
    "import numpy as np # linear algebra\r\n",
    "import pandas as pd # data processing, CSV file I/O (e.g. pd.read_csv)\r\n",
    "\r\n",
    "# Input data files are available in the read-only \"../input/\" directory\r\n",
    "# For example, running this (by clicking run or pressing Shift+Enter) will list all files under the input directory\r\n",
    "\r\n",
    "import os\r\n",
    "for dirname, _, filenames in os.walk('/kaggle/input'):\r\n",
    "    for filename in filenames:\r\n",
    "        #print(os.path.join(dirname, filename))\r\n",
    "        pass\r\n",
    "\r\n",
    "# You can write up to 20GB to the current directory (/kaggle/working/) that gets preserved as output when you create a version using \"Save & Run All\" \r\n",
    "# You can also write temporary files to /kaggle/temp/, but they won't be saved outside of the current session"
   ],
   "outputs": [],
   "metadata": {}
  },
  {
   "cell_type": "code",
   "execution_count": 2,
   "source": [
    "import warnings;\r\n",
    "warnings.filterwarnings('ignore');"
   ],
   "outputs": [],
   "metadata": {
    "execution": {
     "iopub.execute_input": "2021-09-07T15:26:57.260592Z",
     "iopub.status.busy": "2021-09-07T15:26:57.259993Z",
     "iopub.status.idle": "2021-09-07T15:26:57.264090Z",
     "shell.execute_reply": "2021-09-07T15:26:57.263644Z",
     "shell.execute_reply.started": "2021-09-07T15:25:23.862009Z"
    },
    "papermill": {
     "duration": 0.035711,
     "end_time": "2021-09-07T15:26:57.264220",
     "exception": false,
     "start_time": "2021-09-07T15:26:57.228509",
     "status": "completed"
    },
    "tags": []
   }
  },
  {
   "cell_type": "markdown",
   "source": [
    "### Read the labels of Images"
   ],
   "metadata": {}
  },
  {
   "cell_type": "code",
   "execution_count": 3,
   "source": [
    "data = pd.read_csv(\"/kaggle/input/kneexray/KneeXray/Train.csv\")\r\n",
    "test = pd.read_csv(\"/kaggle/input/kneexray/KneeXray/Test.csv\")"
   ],
   "outputs": [],
   "metadata": {
    "execution": {
     "iopub.execute_input": "2021-09-07T15:26:57.323087Z",
     "iopub.status.busy": "2021-09-07T15:26:57.322546Z",
     "iopub.status.idle": "2021-09-07T15:26:57.427269Z",
     "shell.execute_reply": "2021-09-07T15:26:57.426702Z",
     "shell.execute_reply.started": "2021-09-07T15:25:23.871443Z"
    },
    "papermill": {
     "duration": 0.136114,
     "end_time": "2021-09-07T15:26:57.427425",
     "exception": false,
     "start_time": "2021-09-07T15:26:57.291311",
     "status": "completed"
    },
    "tags": []
   }
  },
  {
   "cell_type": "code",
   "execution_count": 4,
   "source": [
    "data.head()\r\n",
    "print(data.shape)"
   ],
   "outputs": [
    {
     "output_type": "stream",
     "name": "stdout",
     "text": [
      "(7828, 2)\n"
     ]
    }
   ],
   "metadata": {
    "execution": {
     "iopub.execute_input": "2021-09-07T15:26:57.485611Z",
     "iopub.status.busy": "2021-09-07T15:26:57.485000Z",
     "iopub.status.idle": "2021-09-07T15:26:57.489691Z",
     "shell.execute_reply": "2021-09-07T15:26:57.489238Z",
     "shell.execute_reply.started": "2021-09-07T15:25:23.892470Z"
    },
    "papermill": {
     "duration": 0.034988,
     "end_time": "2021-09-07T15:26:57.489810",
     "exception": false,
     "start_time": "2021-09-07T15:26:57.454822",
     "status": "completed"
    },
    "tags": []
   }
  },
  {
   "cell_type": "markdown",
   "source": [
    "### Import necessary libraries"
   ],
   "metadata": {}
  },
  {
   "cell_type": "code",
   "execution_count": 5,
   "source": [
    "import tensorflow as tf\r\n",
    "from tensorflow.keras import optimizers\r\n",
    "from tensorflow.keras.models import Model\r\n",
    "from tensorflow.keras.models import Sequential\r\n",
    "from sklearn.model_selection import train_test_split\r\n",
    "from tensorflow.keras.applications.vgg16 import VGG16\r\n",
    "from tensorflow.keras.applications.resnet50 import ResNet50\r\n",
    "from tensorflow.keras.applications.xception import Xception\r\n",
    "from tensorflow.keras.preprocessing.image import ImageDataGenerator\r\n",
    "from tensorflow.keras.callbacks import EarlyStopping, ModelCheckpoint\r\n",
    "from tensorflow.keras.layers import Flatten,Dense, Conv2D, MaxPooling2D, Dropout, BatchNormalization"
   ],
   "outputs": [],
   "metadata": {
    "execution": {
     "iopub.execute_input": "2021-09-07T15:26:57.551766Z",
     "iopub.status.busy": "2021-09-07T15:26:57.551171Z",
     "iopub.status.idle": "2021-09-07T15:27:02.333460Z",
     "shell.execute_reply": "2021-09-07T15:27:02.332932Z",
     "shell.execute_reply.started": "2021-09-07T15:25:23.898782Z"
    },
    "papermill": {
     "duration": 4.815989,
     "end_time": "2021-09-07T15:27:02.333595",
     "exception": false,
     "start_time": "2021-09-07T15:26:57.517606",
     "status": "completed"
    },
    "tags": []
   }
  },
  {
   "cell_type": "code",
   "execution_count": 6,
   "source": [
    "datagen = ImageDataGenerator(rescale=1./255, featurewise_std_normalization=True, samplewise_std_normalization=True)"
   ],
   "outputs": [],
   "metadata": {
    "execution": {
     "iopub.execute_input": "2021-09-07T15:27:02.393887Z",
     "iopub.status.busy": "2021-09-07T15:27:02.392334Z",
     "iopub.status.idle": "2021-09-07T15:27:02.394594Z",
     "shell.execute_reply": "2021-09-07T15:27:02.394991Z",
     "shell.execute_reply.started": "2021-09-07T15:25:23.908458Z"
    },
    "papermill": {
     "duration": 0.033237,
     "end_time": "2021-09-07T15:27:02.395122",
     "exception": false,
     "start_time": "2021-09-07T15:27:02.361885",
     "status": "completed"
    },
    "tags": []
   }
  },
  {
   "cell_type": "code",
   "execution_count": 7,
   "source": [
    "# Function to create a flow of images ,during training, using image name with respective labels present in dataframe.\r\n",
    "def image_gen(train, valid):\r\n",
    "    train_gen = datagen.flow_from_dataframe(dataframe=train,\r\n",
    "                                            x_col=\"filename\",\r\n",
    "                                            y_col=\"label\",\r\n",
    "                                            directory=\"/kaggle/input/kneexray/KneeXray/train\",\r\n",
    "                                            class_mode=\"raw\",\r\n",
    "                                            target_size=(224, 224),\r\n",
    "                                            shuffle=True,\r\n",
    "                                            batch_size=64,\r\n",
    "                                            sheer_range=0.2,\r\n",
    "                                            horizontal_flip=True,\r\n",
    "                                            vertical_flip=True,\r\n",
    "                                            zoom_range=0.4,\r\n",
    "                                            brightness_range=[0.5, 1.8]\r\n",
    "                                            )\r\n",
    "    valid_gen = datagen.flow_from_dataframe(dataframe=valid,\r\n",
    "                                            x_col=\"filename\",\r\n",
    "                                            y_col=\"label\",\r\n",
    "                                            directory=\"/kaggle/input/kneexray/KneeXray/train\",\r\n",
    "                                            class_mode=\"raw\",\r\n",
    "                                            target_size=(224, 224),\r\n",
    "                                            shuffle=False,\r\n",
    "                                            batch_size=64,\r\n",
    "                                            )\r\n",
    "    \r\n",
    "    return train_gen, valid_gen\r\n",
    "    "
   ],
   "outputs": [],
   "metadata": {
    "execution": {
     "iopub.execute_input": "2021-09-07T15:27:02.453973Z",
     "iopub.status.busy": "2021-09-07T15:27:02.452734Z",
     "iopub.status.idle": "2021-09-07T15:27:02.455136Z",
     "shell.execute_reply": "2021-09-07T15:27:02.455543Z",
     "shell.execute_reply.started": "2021-09-07T15:25:23.919060Z"
    },
    "papermill": {
     "duration": 0.034774,
     "end_time": "2021-09-07T15:27:02.455665",
     "exception": false,
     "start_time": "2021-09-07T15:27:02.420891",
     "status": "completed"
    },
    "tags": []
   }
  },
  {
   "cell_type": "code",
   "execution_count": 8,
   "source": [
    "# Separate 'filename' and 'label'\r\n",
    "X, y = data['filename'], data['label']"
   ],
   "outputs": [],
   "metadata": {
    "execution": {
     "iopub.execute_input": "2021-09-07T15:27:02.516393Z",
     "iopub.status.busy": "2021-09-07T15:27:02.515692Z",
     "iopub.status.idle": "2021-09-07T15:27:02.518073Z",
     "shell.execute_reply": "2021-09-07T15:27:02.518467Z",
     "shell.execute_reply.started": "2021-09-07T15:25:23.928713Z"
    },
    "papermill": {
     "duration": 0.037069,
     "end_time": "2021-09-07T15:27:02.518588",
     "exception": false,
     "start_time": "2021-09-07T15:27:02.481519",
     "status": "completed"
    },
    "tags": []
   }
  },
  {
   "cell_type": "code",
   "execution_count": 9,
   "source": [
    "# Splitting X, y into train and validation set\r\n",
    "train_X, val_X, train_y, val_y = train_test_split(X, y, test_size=0.05, stratify=y, random_state=2021)"
   ],
   "outputs": [],
   "metadata": {
    "execution": {
     "iopub.execute_input": "2021-09-07T15:27:02.575107Z",
     "iopub.status.busy": "2021-09-07T15:27:02.574605Z",
     "iopub.status.idle": "2021-09-07T15:27:02.584663Z",
     "shell.execute_reply": "2021-09-07T15:27:02.585071Z",
     "shell.execute_reply.started": "2021-09-07T15:25:24.025122Z"
    },
    "papermill": {
     "duration": 0.040229,
     "end_time": "2021-09-07T15:27:02.585204",
     "exception": false,
     "start_time": "2021-09-07T15:27:02.544975",
     "status": "completed"
    },
    "tags": []
   }
  },
  {
   "cell_type": "code",
   "execution_count": 10,
   "source": [
    "train = pd.concat([train_X, train_y], axis=1)\r\n",
    "valid = pd.concat([val_X, val_y], axis=1)\r\n",
    "\r\n",
    "# Use 'image_gen' function to prepare train and validation data\r\n",
    "train_gen, valid_gen = image_gen(train, valid)"
   ],
   "outputs": [
    {
     "output_type": "stream",
     "name": "stdout",
     "text": [
      "Found 7436 validated image filenames.\n",
      "Found 392 validated image filenames.\n"
     ]
    }
   ],
   "metadata": {
    "execution": {
     "iopub.execute_input": "2021-09-07T15:27:02.641680Z",
     "iopub.status.busy": "2021-09-07T15:27:02.640852Z",
     "iopub.status.idle": "2021-09-07T15:27:08.944427Z",
     "shell.execute_reply": "2021-09-07T15:27:08.943959Z",
     "shell.execute_reply.started": "2021-09-07T15:25:24.046018Z"
    },
    "papermill": {
     "duration": 6.333908,
     "end_time": "2021-09-07T15:27:08.944560",
     "exception": false,
     "start_time": "2021-09-07T15:27:02.610652",
     "status": "completed"
    },
    "tags": []
   }
  },
  {
   "cell_type": "markdown",
   "source": [
    "### Transfer Learning (VGG16-Pretrained Model)"
   ],
   "metadata": {}
  },
  {
   "cell_type": "code",
   "execution_count": 11,
   "source": [
    "# Using our own input shape whereas weights are pretrained on 'imagenet' data\r\n",
    "model = VGG16(include_top=False, weights=\"imagenet\", input_shape=(224, 224, 3))\r\n",
    "\r\n",
    "# Including all the layers of VGG16 except last layer\r\n",
    "x = model.layers[-1].output"
   ],
   "outputs": [
    {
     "output_type": "stream",
     "name": "stdout",
     "text": [
      "Downloading data from https://storage.googleapis.com/tensorflow/keras-applications/vgg16/vgg16_weights_tf_dim_ordering_tf_kernels_notop.h5\n",
      "58892288/58889256 [==============================] - 1s 0us/step\n"
     ]
    }
   ],
   "metadata": {
    "execution": {
     "iopub.execute_input": "2021-09-07T15:27:09.004202Z",
     "iopub.status.busy": "2021-09-07T15:27:09.003701Z",
     "iopub.status.idle": "2021-09-07T15:27:11.904049Z",
     "shell.execute_reply": "2021-09-07T15:27:11.903565Z",
     "shell.execute_reply.started": "2021-09-07T15:25:26.361046Z"
    },
    "papermill": {
     "duration": 2.933216,
     "end_time": "2021-09-07T15:27:11.904215",
     "exception": false,
     "start_time": "2021-09-07T15:27:08.970999",
     "status": "completed"
    },
    "tags": []
   }
  },
  {
   "cell_type": "code",
   "execution_count": 12,
   "source": [
    "#x = Conv2D(64, (4, 4), activation=\"relu\")(m)\r\n",
    "#x = MaxPooling2D((3, 3))(x)\r\n",
    "#x = BatchNormalization()(x)\r\n",
    "#x = Dropout(0.5)(x)\r\n",
    "\r\n",
    "#x = Conv2D(32, (4, 4), activation=\"relu\")(m)\r\n",
    "#x = MaxPooling2D((3, 3))(x)\r\n",
    "#x = BatchNormalization()(x)\r\n",
    "#x = Dropout(0.5)(x)\r\n",
    "\r\n",
    "#x = Conv2D(64, (4, 4), activation=\"relu\")(m)\r\n",
    "#x = MaxPooling2D((3, 3))(x)\r\n",
    "#x = BatchNormalization()(x)\r\n",
    "#x = Dropout(0.5)(x)\r\n",
    "\r\n",
    "\r\n",
    "\r\n",
    "\r\n",
    "# Flatten previous layers\r\n",
    "x = Flatten()(x)\r\n",
    "\r\n",
    "# Output layer having 5 classes\r\n",
    "out = Dense(5, activation=\"softmax\")(x)\r\n",
    "\r\n",
    "# Final model to train using a pretrained layers\r\n",
    "new_model = Model(inputs=model.input, outputs=out)\r\n",
    "\r\n",
    "\r\n",
    "\r\n",
    "\r\n",
    "\r\n",
    "#for layer in new_model.layers[:-5]:\r\n",
    " #   layer.trainable=False"
   ],
   "outputs": [],
   "metadata": {
    "execution": {
     "iopub.execute_input": "2021-09-07T15:27:11.970006Z",
     "iopub.status.busy": "2021-09-07T15:27:11.969165Z",
     "iopub.status.idle": "2021-09-07T15:27:11.984951Z",
     "shell.execute_reply": "2021-09-07T15:27:11.984535Z",
     "shell.execute_reply.started": "2021-09-07T15:25:26.649822Z"
    },
    "papermill": {
     "duration": 0.051567,
     "end_time": "2021-09-07T15:27:11.985065",
     "exception": false,
     "start_time": "2021-09-07T15:27:11.933498",
     "status": "completed"
    },
    "tags": []
   }
  },
  {
   "cell_type": "code",
   "execution_count": 13,
   "source": [
    "# Setting optimizer \r\n",
    "opt = optimizers.Adam(learning_rate=0.0001)\r\n",
    "\r\n",
    "# Callbacks to allow certain restrictions during training \r\n",
    "callback = [EarlyStopping(monitor='val_loss', patience=5, restore_best_weights=True), ModelCheckpoint(filepath=\"/kaggle/working\", monitor='val_loss', save_best_only=True)]\r\n",
    "\r\n",
    "# Set loss function, optimizer and chosen metric \r\n",
    "new_model.compile(loss=\"sparse_categorical_crossentropy\", optimizer=opt, metrics=[\"accuracy\"])"
   ],
   "outputs": [],
   "metadata": {
    "execution": {
     "iopub.execute_input": "2021-09-07T15:27:12.053682Z",
     "iopub.status.busy": "2021-09-07T15:27:12.052856Z",
     "iopub.status.idle": "2021-09-07T15:27:12.058752Z",
     "shell.execute_reply": "2021-09-07T15:27:12.058350Z",
     "shell.execute_reply.started": "2021-09-07T15:25:26.671380Z"
    },
    "papermill": {
     "duration": 0.045014,
     "end_time": "2021-09-07T15:27:12.058857",
     "exception": false,
     "start_time": "2021-09-07T15:27:12.013843",
     "status": "completed"
    },
    "tags": []
   }
  },
  {
   "cell_type": "markdown",
   "source": [
    "### Model training"
   ],
   "metadata": {}
  },
  {
   "cell_type": "code",
   "execution_count": 14,
   "source": [
    "# Fitting our model on training images\r\n",
    "history = new_model.fit(train_gen,  validation_data=valid_gen, epochs=25, callbacks=callback)#, class_weight={0:0.1, 2:0.4, 1:0.6, 3:0.8, 4:5})"
   ],
   "outputs": [
    {
     "output_type": "stream",
     "name": "stdout",
     "text": [
      "Epoch 1/25\n",
      "117/117 [==============================] - 86s 622ms/step - loss: 1.4136 - accuracy: 0.3832 - val_loss: 1.2995 - val_accuracy: 0.4490\n",
      "Epoch 2/25\n",
      "117/117 [==============================] - 47s 400ms/step - loss: 1.1366 - accuracy: 0.5174 - val_loss: 0.9827 - val_accuracy: 0.5765\n",
      "Epoch 3/25\n",
      "117/117 [==============================] - 48s 405ms/step - loss: 0.8815 - accuracy: 0.6254 - val_loss: 0.8867 - val_accuracy: 0.6224\n",
      "Epoch 4/25\n",
      "117/117 [==============================] - 48s 405ms/step - loss: 0.7705 - accuracy: 0.6733 - val_loss: 0.7545 - val_accuracy: 0.6939\n",
      "Epoch 5/25\n",
      "117/117 [==============================] - 47s 408ms/step - loss: 0.7219 - accuracy: 0.7011 - val_loss: 0.7736 - val_accuracy: 0.6735\n",
      "Epoch 6/25\n",
      "117/117 [==============================] - 47s 405ms/step - loss: 0.6271 - accuracy: 0.7385 - val_loss: 0.7819 - val_accuracy: 0.6735\n",
      "Epoch 7/25\n",
      "117/117 [==============================] - 47s 404ms/step - loss: 0.5826 - accuracy: 0.7604 - val_loss: 0.8109 - val_accuracy: 0.6888\n",
      "Epoch 8/25\n",
      "117/117 [==============================] - 48s 405ms/step - loss: 0.5116 - accuracy: 0.7859 - val_loss: 0.7992 - val_accuracy: 0.6760\n",
      "Epoch 9/25\n",
      "117/117 [==============================] - 47s 404ms/step - loss: 0.4105 - accuracy: 0.8398 - val_loss: 0.8246 - val_accuracy: 0.7015\n"
     ]
    }
   ],
   "metadata": {
    "execution": {
     "iopub.execute_input": "2021-09-07T15:27:12.120102Z",
     "iopub.status.busy": "2021-09-07T15:27:12.119518Z",
     "iopub.status.idle": "2021-09-07T15:35:08.948335Z",
     "shell.execute_reply": "2021-09-07T15:35:08.947850Z",
     "shell.execute_reply.started": "2021-09-07T15:25:26.690164Z"
    },
    "papermill": {
     "duration": 476.860934,
     "end_time": "2021-09-07T15:35:08.948467",
     "exception": false,
     "start_time": "2021-09-07T15:27:12.087533",
     "status": "completed"
    },
    "tags": []
   }
  },
  {
   "cell_type": "markdown",
   "source": [
    "### Save our trained model"
   ],
   "metadata": {}
  },
  {
   "cell_type": "code",
   "execution_count": 15,
   "source": [
    "new_model.save('model.h5')"
   ],
   "outputs": [],
   "metadata": {
    "execution": {
     "iopub.execute_input": "2021-09-07T15:35:09.562067Z",
     "iopub.status.busy": "2021-09-07T15:35:09.561254Z",
     "iopub.status.idle": "2021-09-07T15:35:09.816302Z",
     "shell.execute_reply": "2021-09-07T15:35:09.815808Z"
    },
    "papermill": {
     "duration": 0.5669,
     "end_time": "2021-09-07T15:35:09.816449",
     "exception": false,
     "start_time": "2021-09-07T15:35:09.249549",
     "status": "completed"
    },
    "tags": []
   }
  },
  {
   "cell_type": "markdown",
   "source": [
    "### Predict on Validation Data"
   ],
   "metadata": {}
  },
  {
   "cell_type": "code",
   "execution_count": 26,
   "source": [
    "valid_pred = np.argmax(new_model.predict(valid_gen), axis=1)"
   ],
   "outputs": [],
   "metadata": {
    "execution": {
     "iopub.execute_input": "2021-09-07T15:35:36.980714Z",
     "iopub.status.busy": "2021-09-07T15:35:36.979872Z",
     "iopub.status.idle": "2021-09-07T15:35:39.055633Z",
     "shell.execute_reply": "2021-09-07T15:35:39.055016Z"
    },
    "papermill": {
     "duration": 2.383791,
     "end_time": "2021-09-07T15:35:39.055772",
     "exception": false,
     "start_time": "2021-09-07T15:35:36.671981",
     "status": "completed"
    },
    "tags": []
   }
  },
  {
   "cell_type": "markdown",
   "source": [
    "### Plotting Accuracy and Loss of our model w.r.t number of Epochs the model is trained on"
   ],
   "metadata": {}
  },
  {
   "cell_type": "code",
   "execution_count": 28,
   "source": [
    "import matplotlib.pyplot as plt"
   ],
   "outputs": [],
   "metadata": {
    "execution": {
     "iopub.execute_input": "2021-09-07T15:35:40.279737Z",
     "iopub.status.busy": "2021-09-07T15:35:40.279186Z",
     "iopub.status.idle": "2021-09-07T15:35:40.283096Z",
     "shell.execute_reply": "2021-09-07T15:35:40.282664Z"
    },
    "papermill": {
     "duration": 0.309232,
     "end_time": "2021-09-07T15:35:40.283249",
     "exception": false,
     "start_time": "2021-09-07T15:35:39.974017",
     "status": "completed"
    },
    "tags": []
   }
  },
  {
   "cell_type": "code",
   "execution_count": 29,
   "source": [
    "plt.plot(history.history['accuracy'])\r\n",
    "plt.plot(history.history['val_accuracy'])\r\n",
    "plt.title('Model Accuracy')\r\n",
    "plt.xlabel('Epochs')\r\n",
    "plt.ylabel('Accuracy')\r\n",
    "plt.legend(['Train', 'Val'], loc='upper left')\r\n",
    "plt.show()"
   ],
   "outputs": [
    {
     "output_type": "display_data",
     "data": {
      "image/png": "[encoded data removed]",
      "text/plain": [
       "<Figure size 432x288 with 1 Axes>"
      ]
     },
     "metadata": {
      "needs_background": "light"
     }
    }
   ],
   "metadata": {
    "execution": {
     "iopub.execute_input": "2021-09-07T15:35:40.910775Z",
     "iopub.status.busy": "2021-09-07T15:35:40.910243Z",
     "iopub.status.idle": "2021-09-07T15:35:41.059518Z",
     "shell.execute_reply": "2021-09-07T15:35:41.060023Z"
    },
    "papermill": {
     "duration": 0.471428,
     "end_time": "2021-09-07T15:35:41.060201",
     "exception": false,
     "start_time": "2021-09-07T15:35:40.588773",
     "status": "completed"
    },
    "tags": []
   }
  },
  {
   "cell_type": "code",
   "execution_count": 30,
   "source": [
    "plt.plot(history.history['loss'])\r\n",
    "plt.plot(history.history['val_loss'])\r\n",
    "plt.title('Model loss')\r\n",
    "plt.xlabel('Epochs')\r\n",
    "plt.ylabel('Loss')\r\n",
    "plt.legend(['Train', 'Val'], loc='upper left')\r\n",
    "plt.show()"
   ],
   "outputs": [
    {
     "output_type": "display_data",
     "data": {
      "image/png": "[encoded data removed]",
      "text/plain": [
       "<Figure size 432x288 with 1 Axes>"
      ]
     },
     "metadata": {
      "needs_background": "light"
     }
    }
   ],
   "metadata": {
    "execution": {
     "iopub.execute_input": "2021-09-07T15:35:41.685856Z",
     "iopub.status.busy": "2021-09-07T15:35:41.685013Z",
     "iopub.status.idle": "2021-09-07T15:35:41.804689Z",
     "shell.execute_reply": "2021-09-07T15:35:41.805228Z"
    },
    "papermill": {
     "duration": 0.441488,
     "end_time": "2021-09-07T15:35:41.805378",
     "exception": false,
     "start_time": "2021-09-07T15:35:41.363890",
     "status": "completed"
    },
    "tags": []
   }
  },
  {
   "cell_type": "markdown",
   "source": [
    "### Classification Report on metrics like F1 Score, Precision, Recall"
   ],
   "metadata": {}
  },
  {
   "cell_type": "code",
   "execution_count": 31,
   "source": [
    "from sklearn.metrics import confusion_matrix\r\n",
    "from sklearn.metrics import classification_report"
   ],
   "outputs": [],
   "metadata": {
    "execution": {
     "iopub.execute_input": "2021-09-07T15:35:42.500467Z",
     "iopub.status.busy": "2021-09-07T15:35:42.498588Z",
     "iopub.status.idle": "2021-09-07T15:35:42.502946Z",
     "shell.execute_reply": "2021-09-07T15:35:42.502539Z"
    },
    "papermill": {
     "duration": 0.390981,
     "end_time": "2021-09-07T15:35:42.503060",
     "exception": false,
     "start_time": "2021-09-07T15:35:42.112079",
     "status": "completed"
    },
    "tags": []
   }
  },
  {
   "cell_type": "code",
   "execution_count": 33,
   "source": [
    "report = classification_report(np.array(valid['label']), valid_pred)"
   ],
   "outputs": [],
   "metadata": {
    "execution": {
     "iopub.execute_input": "2021-09-07T15:35:43.848835Z",
     "iopub.status.busy": "2021-09-07T15:35:43.848006Z",
     "iopub.status.idle": "2021-09-07T15:35:43.855077Z",
     "shell.execute_reply": "2021-09-07T15:35:43.854661Z"
    },
    "papermill": {
     "duration": 0.325042,
     "end_time": "2021-09-07T15:35:43.855206",
     "exception": false,
     "start_time": "2021-09-07T15:35:43.530164",
     "status": "completed"
    },
    "tags": []
   }
  },
  {
   "cell_type": "code",
   "execution_count": 34,
   "source": [
    "print(report)"
   ],
   "outputs": [
    {
     "output_type": "stream",
     "name": "stdout",
     "text": [
      "              precision    recall  f1-score   support\n",
      "\n",
      "           0       0.71      0.93      0.80       154\n",
      "           1       0.37      0.10      0.16        71\n",
      "           2       0.67      0.67      0.67       103\n",
      "           3       0.75      0.87      0.80        52\n",
      "           4       1.00      0.67      0.80        12\n",
      "\n",
      "    accuracy                           0.69       392\n",
      "   macro avg       0.70      0.65      0.65       392\n",
      "weighted avg       0.65      0.69      0.65       392\n",
      "\n"
     ]
    }
   ],
   "metadata": {
    "execution": {
     "iopub.execute_input": "2021-09-07T15:35:44.483547Z",
     "iopub.status.busy": "2021-09-07T15:35:44.482819Z",
     "iopub.status.idle": "2021-09-07T15:35:44.486390Z",
     "shell.execute_reply": "2021-09-07T15:35:44.486838Z"
    },
    "papermill": {
     "duration": 0.323859,
     "end_time": "2021-09-07T15:35:44.487012",
     "exception": false,
     "start_time": "2021-09-07T15:35:44.163153",
     "status": "completed"
    },
    "tags": []
   }
  },
  {
   "cell_type": "markdown",
   "source": [
    "### From above we can see, F1 Score on our Validation(untrained) data is around 0.65"
   ],
   "metadata": {}
  },
  {
   "cell_type": "code",
   "execution_count": 35,
   "source": [
    "valid['label'].unique()"
   ],
   "outputs": [
    {
     "output_type": "execute_result",
     "data": {
      "text/plain": [
       "array([2, 3, 0, 1, 4])"
      ]
     },
     "metadata": {},
     "execution_count": 35
    }
   ],
   "metadata": {
    "execution": {
     "iopub.execute_input": "2021-09-07T15:35:45.228888Z",
     "iopub.status.busy": "2021-09-07T15:35:45.228173Z",
     "iopub.status.idle": "2021-09-07T15:35:45.231651Z",
     "shell.execute_reply": "2021-09-07T15:35:45.231219Z"
    },
    "papermill": {
     "duration": 0.316707,
     "end_time": "2021-09-07T15:35:45.231761",
     "exception": false,
     "start_time": "2021-09-07T15:35:44.915054",
     "status": "completed"
    },
    "tags": []
   }
  },
  {
   "cell_type": "markdown",
   "source": [
    "### Model Summary(Different Layers)"
   ],
   "metadata": {}
  },
  {
   "cell_type": "code",
   "execution_count": 37,
   "source": [
    "new_model.summary()"
   ],
   "outputs": [
    {
     "output_type": "stream",
     "name": "stdout",
     "text": [
      "Model: \"model\"\n",
      "_________________________________________________________________\n",
      "Layer (type)                 Output Shape              Param #   \n",
      "=================================================================\n",
      "input_1 (InputLayer)         [(None, 224, 224, 3)]     0         \n",
      "_________________________________________________________________\n",
      "block1_conv1 (Conv2D)        (None, 224, 224, 64)      1792      \n",
      "_________________________________________________________________\n",
      "block1_conv2 (Conv2D)        (None, 224, 224, 64)      36928     \n",
      "_________________________________________________________________\n",
      "block1_pool (MaxPooling2D)   (None, 112, 112, 64)      0         \n",
      "_________________________________________________________________\n",
      "block2_conv1 (Conv2D)        (None, 112, 112, 128)     73856     \n",
      "_________________________________________________________________\n",
      "block2_conv2 (Conv2D)        (None, 112, 112, 128)     147584    \n",
      "_________________________________________________________________\n",
      "block2_pool (MaxPooling2D)   (None, 56, 56, 128)       0         \n",
      "_________________________________________________________________\n",
      "block3_conv1 (Conv2D)        (None, 56, 56, 256)       295168    \n",
      "_________________________________________________________________\n",
      "block3_conv2 (Conv2D)        (None, 56, 56, 256)       590080    \n",
      "_________________________________________________________________\n",
      "block3_conv3 (Conv2D)        (None, 56, 56, 256)       590080    \n",
      "_________________________________________________________________\n",
      "block3_pool (MaxPooling2D)   (None, 28, 28, 256)       0         \n",
      "_________________________________________________________________\n",
      "block4_conv1 (Conv2D)        (None, 28, 28, 512)       1180160   \n",
      "_________________________________________________________________\n",
      "block4_conv2 (Conv2D)        (None, 28, 28, 512)       2359808   \n",
      "_________________________________________________________________\n",
      "block4_conv3 (Conv2D)        (None, 28, 28, 512)       2359808   \n",
      "_________________________________________________________________\n",
      "block4_pool (MaxPooling2D)   (None, 14, 14, 512)       0         \n",
      "_________________________________________________________________\n",
      "block5_conv1 (Conv2D)        (None, 14, 14, 512)       2359808   \n",
      "_________________________________________________________________\n",
      "block5_conv2 (Conv2D)        (None, 14, 14, 512)       2359808   \n",
      "_________________________________________________________________\n",
      "block5_conv3 (Conv2D)        (None, 14, 14, 512)       2359808   \n",
      "_________________________________________________________________\n",
      "block5_pool (MaxPooling2D)   (None, 7, 7, 512)         0         \n",
      "_________________________________________________________________\n",
      "flatten (Flatten)            (None, 25088)             0         \n",
      "_________________________________________________________________\n",
      "dense (Dense)                (None, 5)                 125445    \n",
      "=================================================================\n",
      "Total params: 14,840,133\n",
      "Trainable params: 14,840,133\n",
      "Non-trainable params: 0\n",
      "_________________________________________________________________\n"
     ]
    }
   ],
   "metadata": {
    "execution": {
     "iopub.execute_input": "2021-09-07T15:35:46.778068Z",
     "iopub.status.busy": "2021-09-07T15:35:46.774997Z",
     "iopub.status.idle": "2021-09-07T15:35:46.785770Z",
     "shell.execute_reply": "2021-09-07T15:35:46.786208Z"
    },
    "papermill": {
     "duration": 0.322062,
     "end_time": "2021-09-07T15:35:46.786412",
     "exception": false,
     "start_time": "2021-09-07T15:35:46.464350",
     "status": "completed"
    },
    "tags": []
   }
  },
  {
   "cell_type": "code",
   "execution_count": 38,
   "source": [
    "# Tensorflow Version\r\n",
    "tf.__version__"
   ],
   "outputs": [
    {
     "output_type": "execute_result",
     "data": {
      "text/plain": [
       "'2.4.1'"
      ]
     },
     "metadata": {},
     "execution_count": 38
    }
   ],
   "metadata": {
    "execution": {
     "iopub.execute_input": "2021-09-07T15:35:47.416973Z",
     "iopub.status.busy": "2021-09-07T15:35:47.416434Z",
     "iopub.status.idle": "2021-09-07T15:35:47.421776Z",
     "shell.execute_reply": "2021-09-07T15:35:47.422198Z"
    },
    "papermill": {
     "duration": 0.316467,
     "end_time": "2021-09-07T15:35:47.422331",
     "exception": false,
     "start_time": "2021-09-07T15:35:47.105864",
     "status": "completed"
    },
    "tags": []
   }
  },
  {
   "cell_type": "code",
   "execution_count": 39,
   "source": [
    "valid.head()"
   ],
   "outputs": [
    {
     "output_type": "execute_result",
     "data": {
      "text/html": [
       "<div>\n",
       "<style scoped>\n",
       "    .dataframe tbody tr th:only-of-type {\n",
       "        vertical-align: middle;\n",
       "    }\n",
       "\n",
       "    .dataframe tbody tr th {\n",
       "        vertical-align: top;\n",
       "    }\n",
       "\n",
       "    .dataframe thead th {\n",
       "        text-align: right;\n",
       "    }\n",
       "</style>\n",
       "<table border=\"1\" class=\"dataframe\">\n",
       "  <thead>\n",
       "    <tr style=\"text-align: right;\">\n",
       "      <th></th>\n",
       "      <th>filename</th>\n",
       "      <th>label</th>\n",
       "    </tr>\n",
       "  </thead>\n",
       "  <tbody>\n",
       "    <tr>\n",
       "      <th>5072</th>\n",
       "      <td>Image_5073.jpg</td>\n",
       "      <td>2</td>\n",
       "    </tr>\n",
       "    <tr>\n",
       "      <th>1456</th>\n",
       "      <td>Image_1457.jpg</td>\n",
       "      <td>2</td>\n",
       "    </tr>\n",
       "    <tr>\n",
       "      <th>7357</th>\n",
       "      <td>Image_7358.jpg</td>\n",
       "      <td>2</td>\n",
       "    </tr>\n",
       "    <tr>\n",
       "      <th>4270</th>\n",
       "      <td>Image_4271.jpg</td>\n",
       "      <td>3</td>\n",
       "    </tr>\n",
       "    <tr>\n",
       "      <th>6740</th>\n",
       "      <td>Image_6741.jpg</td>\n",
       "      <td>0</td>\n",
       "    </tr>\n",
       "  </tbody>\n",
       "</table>\n",
       "</div>"
      ],
      "text/plain": [
       "            filename  label\n",
       "5072  Image_5073.jpg      2\n",
       "1456  Image_1457.jpg      2\n",
       "7357  Image_7358.jpg      2\n",
       "4270  Image_4271.jpg      3\n",
       "6740  Image_6741.jpg      0"
      ]
     },
     "metadata": {},
     "execution_count": 39
    }
   ],
   "metadata": {
    "execution": {
     "iopub.execute_input": "2021-09-07T15:35:48.074616Z",
     "iopub.status.busy": "2021-09-07T15:35:48.073701Z",
     "iopub.status.idle": "2021-09-07T15:35:48.086681Z",
     "shell.execute_reply": "2021-09-07T15:35:48.085937Z"
    },
    "papermill": {
     "duration": 0.353474,
     "end_time": "2021-09-07T15:35:48.086871",
     "exception": false,
     "start_time": "2021-09-07T15:35:47.733397",
     "status": "completed"
    },
    "tags": []
   }
  },
  {
   "cell_type": "code",
   "execution_count": null,
   "source": [
    "\r\n"
   ],
   "outputs": [],
   "metadata": {
    "papermill": {
     "duration": 0.307116,
     "end_time": "2021-09-07T15:35:48.906542",
     "exception": false,
     "start_time": "2021-09-07T15:35:48.599426",
     "status": "completed"
    },
    "tags": []
   }
  }
 ],
 "metadata": {
  "kernelspec": {
   "display_name": "Python 3 (ipykernel)",
   "language": "python",
   "name": "python3"
  },
  "language_info": {
   "codemirror_mode": {
    "name": "ipython",
    "version": 3
   },
   "file_extension": ".py",
   "mimetype": "text/x-python",
   "name": "python",
   "nbconvert_exporter": "python",
   "pygments_lexer": "ipython3",
   "version": "3.7.7"
  },
  "papermill": {
   "default_parameters": {},
   "duration": 553.002034,
   "end_time": "2021-09-07T15:35:51.546620",
   "environment_variables": {},
   "exception": null,
   "input_path": "__notebook__.ipynb",
   "output_path": "__notebook__.ipynb",
   "parameters": {},
   "start_time": "2021-09-07T15:26:38.544586",
   "version": "2.3.3"
  }
 },
 "nbformat": 4,
 "nbformat_minor": 5
}